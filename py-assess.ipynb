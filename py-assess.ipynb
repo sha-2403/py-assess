{
 "cells": [
  {
   "cell_type": "code",
   "execution_count": 1,
   "id": "81b9f085",
   "metadata": {},
   "outputs": [
    {
     "name": "stdout",
     "output_type": "stream",
     "text": [
      "Data transformation completed. Output saved to 'historical_employee_data.csv'.\n"
     ]
    }
   ],
   "source": [
    "import pandas as pd\n",
    "import numpy as np\n",
    "\n",
    "\n",
    "df = pd.read_csv('input.csv')\n",
    "\n",
    "\n",
    "df.columns = [col.strip() for col in df.columns]\n",
    "\n",
    "date_columns = ['Date of Joining', 'Date of Exit', 'Compensation 1 date', \n",
    "                'Compensation 2 date', 'Review 1 date', 'Review 2 date', \n",
    "                'Engagement 1 date', 'Engagement 2 date']\n",
    "for col in date_columns:\n",
    "    df[col] = pd.to_datetime(df[col])\n",
    "\n",
    "df.fillna(method='ffill', inplace=True)\n",
    "\n",
    "def derive_dates(row):\n",
    "    if pd.isnull(row['Date of Exit']):\n",
    "        end_date = pd.Timestamp('2100-01-01')\n",
    "    else:\n",
    "        end_date = row['Date of Exit'] - pd.Timedelta(days=1)\n",
    "    return pd.Series({'Effective Date': row['Date of Joining'], 'End Date': end_date})\n",
    "\n",
    "\n",
    "date_df = df.apply(derive_dates, axis=1)\n",
    "\n",
    "\n",
    "df = pd.concat([df, date_df], axis=1)\n",
    "\n",
    "\n",
    "def transform_data(row):\n",
    "    records = []\n",
    "    for i in range(1, 3):\n",
    "        record = {\n",
    "            'Employee Code': row['Employee Code'],\n",
    "            'Effective Date': row['Effective Date'],\n",
    "            'End Date': row['End Date'],\n",
    "            'Compensation': row['Compensation'],\n",
    "            'Review': row[f'Review {i}'],\n",
    "            'Engagement': row[f'Engagement {i}']\n",
    "        }\n",
    "        records.append(record)\n",
    "    return pd.DataFrame(records)\n",
    "\n",
    "\n",
    "transformed_df = pd.concat(df.apply(transform_data, axis=1).tolist(), ignore_index=True)\n",
    "\n",
    "transformed_df.sort_values(by=['Employee Code', 'Effective Date'], inplace=True)\n",
    "\n",
    "\n",
    "transformed_df.to_csv('historical_employee_data.csv', index=False)\n",
    "\n",
    "\n",
    "print(\"Data transformation completed. Output saved to 'historical_employee_data.csv'.\")\n"
   ]
  },
  {
   "cell_type": "code",
   "execution_count": null,
   "id": "b8ea3aeb",
   "metadata": {},
   "outputs": [],
   "source": []
  }
 ],
 "metadata": {
  "kernelspec": {
   "display_name": "Python 3 (ipykernel)",
   "language": "python",
   "name": "python3"
  },
  "language_info": {
   "codemirror_mode": {
    "name": "ipython",
    "version": 3
   },
   "file_extension": ".py",
   "mimetype": "text/x-python",
   "name": "python",
   "nbconvert_exporter": "python",
   "pygments_lexer": "ipython3",
   "version": "3.11.5"
  }
 },
 "nbformat": 4,
 "nbformat_minor": 5
}
